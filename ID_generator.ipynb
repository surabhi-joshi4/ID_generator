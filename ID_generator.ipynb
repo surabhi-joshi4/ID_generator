{
  "nbformat": 4,
  "nbformat_minor": 0,
  "metadata": {
    "colab": {
      "name": "ID_generator.ipynb",
      "provenance": [],
      "collapsed_sections": [],
      "authorship_tag": "ABX9TyPlZhJhJuAmsIUP/XgBvLyn",
      "include_colab_link": true
    },
    "kernelspec": {
      "name": "python3",
      "display_name": "Python 3"
    }
  },
  "cells": [
    {
      "cell_type": "markdown",
      "metadata": {
        "id": "view-in-github",
        "colab_type": "text"
      },
      "source": [
        "<a href=\"https://colab.research.google.com/github/surabhi-joshi4/ID_generator/blob/master/ID_generator.ipynb\" target=\"_parent\"><img src=\"https://colab.research.google.com/assets/colab-badge.svg\" alt=\"Open In Colab\"/></a>"
      ]
    },
    {
      "cell_type": "code",
      "metadata": {
        "id": "-acqZp787OY2",
        "colab_type": "code",
        "colab": {
          "base_uri": "https://localhost:8080/",
          "height": 34
        },
        "outputId": "14d4acc4-a395-4773-8566-36190516c0f2"
      },
      "source": [
        "!pip install pillow"
      ],
      "execution_count": 101,
      "outputs": [
        {
          "output_type": "stream",
          "text": [
            "Requirement already satisfied: pillow in /usr/local/lib/python3.6/dist-packages (7.0.0)\n"
          ],
          "name": "stdout"
        }
      ]
    },
    {
      "cell_type": "code",
      "metadata": {
        "id": "uF_VD_OY8nbw",
        "colab_type": "code",
        "colab": {}
      },
      "source": [
        "from PIL import Image, ImageDraw, ImageFont"
      ],
      "execution_count": 102,
      "outputs": []
    },
    {
      "cell_type": "code",
      "metadata": {
        "id": "-PJg5fS-8smM",
        "colab_type": "code",
        "colab": {}
      },
      "source": [
        "image = Image.new('RGB', (1000,900), (255, 255, 255))\n"
      ],
      "execution_count": 103,
      "outputs": []
    },
    {
      "cell_type": "code",
      "metadata": {
        "id": "rdJ29q4r8wuw",
        "colab_type": "code",
        "colab": {}
      },
      "source": [
        "draw = ImageDraw.Draw(image)\n"
      ],
      "execution_count": 104,
      "outputs": []
    },
    {
      "cell_type": "code",
      "metadata": {
        "id": "jCkm8HumFpL3",
        "colab_type": "code",
        "colab": {}
      },
      "source": [
        "font = ImageFont.truetype(\"arial.ttf\",size=45)"
      ],
      "execution_count": 105,
      "outputs": []
    },
    {
      "cell_type": "code",
      "metadata": {
        "id": "gYpTQhBs80MS",
        "colab_type": "code",
        "colab": {}
      },
      "source": [
        "import random\n",
        "import os\n",
        "import datetime\n"
      ],
      "execution_count": 106,
      "outputs": []
    },
    {
      "cell_type": "code",
      "metadata": {
        "id": "O0H2V-B4_3e5",
        "colab_type": "code",
        "colab": {
          "base_uri": "https://localhost:8080/",
          "height": 51
        },
        "outputId": "8f9b3f31-57f9-4841-d375-8e2e0e02c7ed"
      },
      "source": [
        "!pip install qrcode"
      ],
      "execution_count": 107,
      "outputs": [
        {
          "output_type": "stream",
          "text": [
            "Requirement already satisfied: qrcode in /usr/local/lib/python3.6/dist-packages (6.1)\n",
            "Requirement already satisfied: six in /usr/local/lib/python3.6/dist-packages (from qrcode) (1.15.0)\n"
          ],
          "name": "stdout"
        }
      ]
    },
    {
      "cell_type": "code",
      "metadata": {
        "id": "JbyZPFIZAFMZ",
        "colab_type": "code",
        "colab": {}
      },
      "source": [
        "import qrcode"
      ],
      "execution_count": 108,
      "outputs": []
    },
    {
      "cell_type": "code",
      "metadata": {
        "id": "EAVocUppAIXs",
        "colab_type": "code",
        "colab": {
          "base_uri": "https://localhost:8080/",
          "height": 34
        },
        "outputId": "344f3850-9cc0-43d9-aaca-c6d11fa685f8"
      },
      "source": [
        "os.system(\"title ID CARD Generator\")"
      ],
      "execution_count": 109,
      "outputs": [
        {
          "output_type": "execute_result",
          "data": {
            "text/plain": [
              "32512"
            ]
          },
          "metadata": {
            "tags": []
          },
          "execution_count": 109
        }
      ]
    },
    {
      "cell_type": "code",
      "metadata": {
        "id": "Yba2ky_fAMa7",
        "colab_type": "code",
        "colab": {}
      },
      "source": [
        "d_date = datetime.datetime.now()"
      ],
      "execution_count": 110,
      "outputs": []
    },
    {
      "cell_type": "code",
      "metadata": {
        "id": "ogUO8mNvAPvO",
        "colab_type": "code",
        "colab": {
          "base_uri": "https://localhost:8080/",
          "height": 68
        },
        "outputId": "0df40d6b-8c2a-4d70-96c3-532c35a035a4"
      },
      "source": [
        "reg_format_date = d_date.strftime(\"  %d-%m-%Y\\t\\t\\t\\t\\t ID CARD Generator\\t\\t\\t\\t\\t  %I:%M:%S %p\")\n",
        "print ('+++++++++++++++++++++++++++++++++++++++++++++++++++++++++++++++++++++++++++++++++++++++++++++++++++++++++++++++++++++++')\n",
        "print (reg_format_date)\n",
        "print ('+++++++++++++++++++++++++++++++++++++++++++++++++++++++++++++++++++++++++++++++++++++++++++++++++++++++++++++++++++++++')"
      ],
      "execution_count": 111,
      "outputs": [
        {
          "output_type": "stream",
          "text": [
            "+++++++++++++++++++++++++++++++++++++++++++++++++++++++++++++++++++++++++++++++++++++++++++++++++++++++++++++++++++++++\n",
            "  01-09-2020\t\t\t\t\t ID CARD Generator\t\t\t\t\t  11:53:56 AM\n",
            "+++++++++++++++++++++++++++++++++++++++++++++++++++++++++++++++++++++++++++++++++++++++++++++++++++++++++++++++++++++++\n"
          ],
          "name": "stdout"
        }
      ]
    },
    {
      "cell_type": "code",
      "metadata": {
        "id": "XabZM6uYAVIN",
        "colab_type": "code",
        "colab": {
          "base_uri": "https://localhost:8080/",
          "height": 136
        },
        "outputId": "05cf3131-4f93-4ae2-a555-c0072a2679e0"
      },
      "source": [
        "# starting position of the message\n",
        "print('\\n\\nAll Fields are Mandatory') \n",
        "print('Avoid any kind of Spelling Mistakes')\n",
        "print('Write Everything in uppercase letters')\n",
        "(x, y) = (50, 50)\n",
        "message = input('\\nEnter Your Company Name: ')\n",
        "company=message\n",
        "color = 'rgb(0, 0, 0)'\n",
        "font = ImageFont.truetype('arial.ttf', size=80)\n",
        "draw.text((x, y), message, fill=color, font=font)"
      ],
      "execution_count": 112,
      "outputs": [
        {
          "output_type": "stream",
          "text": [
            "\n",
            "\n",
            "All Fields are Mandatory\n",
            "Avoid any kind of Spelling Mistakes\n",
            "Write Everything in uppercase letters\n",
            "\n",
            "Enter Your Company Name: SJPVT Ltd\n"
          ],
          "name": "stdout"
        }
      ]
    },
    {
      "cell_type": "code",
      "metadata": {
        "id": "F_9e-zQMAlHb",
        "colab_type": "code",
        "colab": {}
      },
      "source": [
        "\n",
        "# adding an unique id number. You can manually take it from user\n",
        "(x, y) = (600, 75)\n",
        "idno=random.randint(10000000,90000000)\n",
        "message = str('ID '+str(idno))\n",
        "color = 'rgb(0, 0, 0)' # black color\n",
        "font = ImageFont.truetype('arial.ttf', size=60)\n",
        "draw.text((x, y), message, fill=color, font=font)"
      ],
      "execution_count": 113,
      "outputs": []
    },
    {
      "cell_type": "code",
      "metadata": {
        "id": "4qh9bR7XAtyT",
        "colab_type": "code",
        "colab": {
          "base_uri": "https://localhost:8080/",
          "height": 136
        },
        "outputId": "1de5ce51-9e8a-4d95-efa3-376ed24544dc"
      },
      "source": [
        "\n",
        "\n",
        "(x, y) = (50, 250)\n",
        "message = input('Enter Your Full Name: ')\n",
        "name=message\n",
        "color = 'rgb(0, 0, 0)' # black color\n",
        "font = ImageFont.truetype('arial.ttf', size=45)\n",
        "draw.text((x, y), message, fill=color, font=font)\n",
        "\n",
        "\n",
        "\n",
        "(x, y) = (50, 350)\n",
        "message = input('Enter Your Gender: ')\n",
        "color = 'rgb(0, 0, 0)' # black color \n",
        "draw.text((x, y), message, fill=color, font=font)\n",
        "(x, y) = (250, 350)\n",
        "message = input('Enter Your Age: ')\n",
        "color = 'rgb(0, 0, 0)' # black color \n",
        "draw.text((x, y), message, fill=color, font=font)\n",
        "\n",
        "\n",
        "\n",
        "(x, y) = (50, 450)\n",
        "message = input('Enter Your Date Of Birth: ')\n",
        "color = 'rgb(0, 0, 0)' # black color \n",
        "draw.text((x, y), message, fill=color, font=font)\n",
        "\n",
        "\n",
        "\n",
        "(x, y) = (50, 550)\n",
        "message = input('Enter Your Blood Group: ')\n",
        "color = 'rgb(255, 0, 0)' # black color \n",
        "draw.text((x, y), message, fill=color, font=font)\n",
        "\n",
        "\n",
        "\n",
        "(x, y) = (50, 650)\n",
        "message = input('Enter Your Mobile Number: ')\n",
        "temp=message\n",
        "color = 'rgb(0, 0, 0)' # black color \n",
        "draw.text((x, y), message, fill=color, font=font)\n",
        "\n",
        "\n",
        "\n",
        "\n",
        "(x, y) = (50, 750)\n",
        "message = input('Enter Your Address: ')\n",
        "color = 'rgb(0, 0, 0)' # black color \n",
        "draw.text((x, y), message, fill=color, font=font)"
      ],
      "execution_count": 114,
      "outputs": [
        {
          "output_type": "stream",
          "text": [
            "Enter Your Full Name: SURABHI JOSHI\n",
            "Enter Your Gender: FEMALE\n",
            "Enter Your Age: 24\n",
            "Enter Your Date Of Birth: 4/12/1995\n",
            "Enter Your Blood Group: O+\n",
            "Enter Your Mobile Number: 8928821121\n",
            "Enter Your Address: THANE\n"
          ],
          "name": "stdout"
        }
      ]
    },
    {
      "cell_type": "code",
      "metadata": {
        "id": "1OPS25rNDKVK",
        "colab_type": "code",
        "colab": {}
      },
      "source": [
        "# save the edited image\n",
        " \n",
        "image.save(str(name)+'.png')\n",
        "\n",
        "\n",
        "\n",
        "img = qrcode.make(str(company)+str(idno)+str(name))   # this info. is added in QR code, also add other things\n",
        "img.save(str(idno)+'.bmp')\n",
        "\n",
        "\n",
        "til = Image.open(name+'.png')\n",
        "im = Image.open(str(idno)+'.bmp') #25x25\n",
        "til.paste(im,(600,350))\n",
        "til.save(name+'.png')\n",
        "\n",
        "print(('\\n\\n\\nYour ID Card Successfully created in a PNG file '+name+'.png'))\n",
        "eval(input('\\n\\nPress any key to Close program...'))"
      ],
      "execution_count": null,
      "outputs": []
    }
  ]
}