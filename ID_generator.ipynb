{
  "nbformat": 4,
  "nbformat_minor": 0,
  "metadata": {
    "colab": {
      "name": "ID_generator.ipynb",
      "provenance": [],
      "collapsed_sections": [],
      "authorship_tag": "ABX9TyPlZhJhJuAmsIUP/XgBvLyn",
      "include_colab_link": true
    },
    "kernelspec": {
      "name": "python3",
      "display_name": "Python 3"
    }
  },
  "cells": [
    {
      "cell_type": "markdown",
      "metadata": {
        "id": "view-in-github",
        "colab_type": "text"
      },
      "source": [
        "<a href=\"https://colab.research.google.com/github/surabhi-joshi4/ID_generator/blob/master/ID_generator.ipynb\" target=\"_parent\"><img src=\"https://colab.research.google.com/assets/colab-badge.svg\" alt=\"Open In Colab\"/></a>"
      ]
    },
    {
      "cell_type": "code",
      "metadata": {
        "id": "-acqZp787OY2",
        "colab_type": "code",
        "colab": {
          "base_uri": "https://localhost:8080/",
          "height": 34
        },
        "outputId": "37357a7d-03f1-4cad-f1ee-b8cf62457cb1"
      },
      "source": [
        "!pip install pillow"
      ],
      "execution_count": 116,
      "outputs": [
        {
          "output_type": "stream",
          "text": [
            "Requirement already satisfied: pillow in /usr/local/lib/python3.6/dist-packages (7.0.0)\n"
          ],
          "name": "stdout"
        }
      ]
    },
    {
      "cell_type": "code",
      "metadata": {
        "id": "uF_VD_OY8nbw",
        "colab_type": "code",
        "colab": {}
      },
      "source": [
        "from PIL import Image, ImageDraw, ImageFont"
      ],
      "execution_count": 117,
      "outputs": []
    },
    {
      "cell_type": "code",
      "metadata": {
        "id": "-PJg5fS-8smM",
        "colab_type": "code",
        "colab": {}
      },
      "source": [
        "image = Image.new('RGB', (1000,900), (255, 255, 255))\n"
      ],
      "execution_count": 118,
      "outputs": []
    },
    {
      "cell_type": "code",
      "metadata": {
        "id": "rdJ29q4r8wuw",
        "colab_type": "code",
        "colab": {}
      },
      "source": [
        "draw = ImageDraw.Draw(image)\n"
      ],
      "execution_count": 119,
      "outputs": []
    },
    {
      "cell_type": "code",
      "metadata": {
        "id": "jCkm8HumFpL3",
        "colab_type": "code",
        "colab": {}
      },
      "source": [
        "font = ImageFont.truetype(\"arial.ttf\",size=45)"
      ],
      "execution_count": 120,
      "outputs": []
    },
    {
      "cell_type": "code",
      "metadata": {
        "id": "gYpTQhBs80MS",
        "colab_type": "code",
        "colab": {}
      },
      "source": [
        "import random\n",
        "import os\n",
        "import datetime\n"
      ],
      "execution_count": 121,
      "outputs": []
    },
    {
      "cell_type": "code",
      "metadata": {
        "id": "O0H2V-B4_3e5",
        "colab_type": "code",
        "colab": {
          "base_uri": "https://localhost:8080/",
          "height": 51
        },
        "outputId": "d73b8d2b-6c74-440d-900b-edc48c358b30"
      },
      "source": [
        "!pip install qrcode"
      ],
      "execution_count": 122,
      "outputs": [
        {
          "output_type": "stream",
          "text": [
            "Requirement already satisfied: qrcode in /usr/local/lib/python3.6/dist-packages (6.1)\n",
            "Requirement already satisfied: six in /usr/local/lib/python3.6/dist-packages (from qrcode) (1.15.0)\n"
          ],
          "name": "stdout"
        }
      ]
    },
    {
      "cell_type": "code",
      "metadata": {
        "id": "JbyZPFIZAFMZ",
        "colab_type": "code",
        "colab": {}
      },
      "source": [
        "import qrcode"
      ],
      "execution_count": 123,
      "outputs": []
    },
    {
      "cell_type": "code",
      "metadata": {
        "id": "EAVocUppAIXs",
        "colab_type": "code",
        "colab": {
          "base_uri": "https://localhost:8080/",
          "height": 34
        },
        "outputId": "613dbd2b-0199-4294-ef77-58dcdb111a46"
      },
      "source": [
        "os.system(\"title ID CARD Generator\")"
      ],
      "execution_count": 124,
      "outputs": [
        {
          "output_type": "execute_result",
          "data": {
            "text/plain": [
              "32512"
            ]
          },
          "metadata": {
            "tags": []
          },
          "execution_count": 124
        }
      ]
    },
    {
      "cell_type": "code",
      "metadata": {
        "id": "Yba2ky_fAMa7",
        "colab_type": "code",
        "colab": {}
      },
      "source": [
        "d_date = datetime.datetime.now()"
      ],
      "execution_count": 125,
      "outputs": []
    },
    {
      "cell_type": "code",
      "metadata": {
        "id": "ogUO8mNvAPvO",
        "colab_type": "code",
        "colab": {
          "base_uri": "https://localhost:8080/",
          "height": 68
        },
        "outputId": "300d031b-efd1-459b-b3aa-2a646348eb8a"
      },
      "source": [
        "reg_format_date = d_date.strftime(\"  %d-%m-%Y\\t\\t\\t\\t\\t ID CARD Generator\\t\\t\\t\\t\\t  %I:%M:%S %p\")\n",
        "print ('+++++++++++++++++++++++++++++++++++++++++++++++++++++++++++++++++++++++++++++++++++++++++++++++++++++++++++++++++++++++')\n",
        "print (reg_format_date)\n",
        "print ('+++++++++++++++++++++++++++++++++++++++++++++++++++++++++++++++++++++++++++++++++++++++++++++++++++++++++++++++++++++++')"
      ],
      "execution_count": 126,
      "outputs": [
        {
          "output_type": "stream",
          "text": [
            "+++++++++++++++++++++++++++++++++++++++++++++++++++++++++++++++++++++++++++++++++++++++++++++++++++++++++++++++++++++++\n",
            "  01-09-2020\t\t\t\t\t ID CARD Generator\t\t\t\t\t  12:00:42 PM\n",
            "+++++++++++++++++++++++++++++++++++++++++++++++++++++++++++++++++++++++++++++++++++++++++++++++++++++++++++++++++++++++\n"
          ],
          "name": "stdout"
        }
      ]
    },
    {
      "cell_type": "code",
      "metadata": {
        "id": "XabZM6uYAVIN",
        "colab_type": "code",
        "colab": {
          "base_uri": "https://localhost:8080/",
          "height": 136
        },
        "outputId": "c8e2db31-c92e-42d9-dfdc-e52a0e26e51c"
      },
      "source": [
        "# starting position of the message\n",
        "print('\\n\\nAll Fields are Mandatory') \n",
        "print('Avoid any kind of Spelling Mistakes')\n",
        "print('Write Everything in uppercase letters')\n",
        "(x, y) = (50, 50)\n",
        "message = input('\\nEnter Your Company Name: ')\n",
        "company=message\n",
        "color = 'rgb(0, 0, 0)'\n",
        "font = ImageFont.truetype('arial.ttf', size=80)\n",
        "draw.text((x, y), message, fill=color, font=font)"
      ],
      "execution_count": 127,
      "outputs": [
        {
          "output_type": "stream",
          "text": [
            "\n",
            "\n",
            "All Fields are Mandatory\n",
            "Avoid any kind of Spelling Mistakes\n",
            "Write Everything in uppercase letters\n",
            "\n",
            "Enter Your Company Name: SJPVT Ltd\n"
          ],
          "name": "stdout"
        }
      ]
    },
    {
      "cell_type": "code",
      "metadata": {
        "id": "F_9e-zQMAlHb",
        "colab_type": "code",
        "colab": {}
      },
      "source": [
        "\n",
        "# adding an unique id number. You can manually take it from user\n",
        "(x, y) = (600, 75)\n",
        "idno=random.randint(10000000,90000000)\n",
        "message = str('ID '+str(idno))\n",
        "color = 'rgb(0, 0, 0)' # black color\n",
        "font = ImageFont.truetype('arial.ttf', size=60)\n",
        "draw.text((x, y), message, fill=color, font=font)"
      ],
      "execution_count": 128,
      "outputs": []
    },
    {
      "cell_type": "code",
      "metadata": {
        "id": "4qh9bR7XAtyT",
        "colab_type": "code",
        "colab": {
          "base_uri": "https://localhost:8080/",
          "height": 136
        },
        "outputId": "cc4fb09a-e750-4a8d-914d-b32f206f6ae4"
      },
      "source": [
        "\n",
        "\n",
        "(x, y) = (50, 250)\n",
        "message = input('Enter Your Full Name: ')\n",
        "name=message\n",
        "color = 'rgb(0, 0, 0)' # black color\n",
        "font = ImageFont.truetype('arial.ttf', size=45)\n",
        "draw.text((x, y), message, fill=color, font=font)\n",
        "\n",
        "\n",
        "\n",
        "(x, y) = (50, 350)\n",
        "message = input('Enter Your Gender: ')\n",
        "color = 'rgb(0, 0, 0)' # black color \n",
        "draw.text((x, y), message, fill=color, font=font)\n",
        "(x, y) = (250, 350)\n",
        "message = input('Enter Your Age: ')\n",
        "color = 'rgb(0, 0, 0)' # black color \n",
        "draw.text((x, y), message, fill=color, font=font)\n",
        "\n",
        "\n",
        "\n",
        "(x, y) = (50, 450)\n",
        "message = input('Enter Your Date Of Birth: ')\n",
        "color = 'rgb(0, 0, 0)' # black color \n",
        "draw.text((x, y), message, fill=color, font=font)\n",
        "\n",
        "\n",
        "\n",
        "(x, y) = (50, 550)\n",
        "message = input('Enter Your Blood Group: ')\n",
        "color = 'rgb(255, 0, 0)' # black color \n",
        "draw.text((x, y), message, fill=color, font=font)\n",
        "\n",
        "\n",
        "\n",
        "(x, y) = (50, 650)\n",
        "message = input('Enter Your Mobile Number: ')\n",
        "temp=message\n",
        "color = 'rgb(0, 0, 0)' # black color \n",
        "draw.text((x, y), message, fill=color, font=font)\n",
        "\n",
        "\n",
        "\n",
        "\n",
        "(x, y) = (50, 750)\n",
        "message = input('Enter Your Address: ')\n",
        "color = 'rgb(0, 0, 0)' # black color \n",
        "draw.text((x, y), message, fill=color, font=font)"
      ],
      "execution_count": 129,
      "outputs": [
        {
          "output_type": "stream",
          "text": [
            "Enter Your Full Name: SURABHI JOSHI\n",
            "Enter Your Gender: FEMALE\n",
            "Enter Your Age: 24\n",
            "Enter Your Date Of Birth: 4/11/1995\n",
            "Enter Your Blood Group: O+\n",
            "Enter Your Mobile Number: 1245859678\n",
            "Enter Your Address: THANE\n"
          ],
          "name": "stdout"
        }
      ]
    },
    {
      "cell_type": "code",
      "metadata": {
        "id": "1OPS25rNDKVK",
        "colab_type": "code",
        "colab": {}
      },
      "source": [
        "# save the edited image\n",
        " \n",
        "image.save(str(name)+'.png')\n",
        "\n",
        "\n",
        "\n",
        "img = qrcode.make(str(company)+str(idno)+str(name))   # this info. is added in QR code, also add other things\n",
        "img.save(str(idno)+'.bmp')\n",
        "\n",
        "\n",
        "til = Image.open(name+'.png')\n",
        "im = Image.open(str(idno)+'.bmp') #25x25\n",
        "til.paste(im,(600,350))\n",
        "til.save(name+'.png')\n",
        "\n",
        "print(('\\n\\n\\nYour ID Card Successfully created in a PNG file '+name+'.png'))\n",
        "eval(input('\\n\\nPress any key to Close program...'))"
      ],
      "execution_count": null,
      "outputs": []
    }
  ]
}